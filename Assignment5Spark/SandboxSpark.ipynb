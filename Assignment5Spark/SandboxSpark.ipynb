{
 "cells": [
  {
   "cell_type": "code",
   "execution_count": 1,
   "metadata": {},
   "outputs": [],
   "source": [
    "import findspark\n",
    "findspark.init()\n",
    "\n",
    "import pyspark\n",
    "from pyspark import SparkContext"
   ]
  },
  {
   "cell_type": "code",
   "execution_count": 2,
   "metadata": {},
   "outputs": [],
   "source": [
    "sc=SparkContext(master=\"local[4]\")"
   ]
  },
  {
   "cell_type": "code",
   "execution_count": 3,
   "metadata": {},
   "outputs": [],
   "source": [
    "logs = sc.textFile(\"input_files/*.csv\")"
   ]
  },
  {
   "cell_type": "code",
   "execution_count": 4,
   "metadata": {},
   "outputs": [
    {
     "data": {
      "text/plain": [
       "40000"
      ]
     },
     "execution_count": 4,
     "metadata": {},
     "output_type": "execute_result"
    }
   ],
   "source": [
    "logs.count()"
   ]
  },
  {
   "cell_type": "code",
   "execution_count": 5,
   "metadata": {},
   "outputs": [
    {
     "data": {
      "text/plain": [
       "40000"
      ]
     },
     "execution_count": 5,
     "metadata": {},
     "output_type": "execute_result"
    }
   ],
   "source": [
    "logs.distinct().count()"
   ]
  },
  {
   "cell_type": "code",
   "execution_count": 6,
   "metadata": {},
   "outputs": [
    {
     "data": {
      "text/plain": [
       "['eefc2eb34a354ab7acaf14ae784a37c9,2019-09-12T00:00:25.920Z,http://example.com/?url=169,user-041,CR,IE,Android,201,0.2856']"
      ]
     },
     "execution_count": 6,
     "metadata": {},
     "output_type": "execute_result"
    }
   ],
   "source": [
    "logs.take(1)"
   ]
  },
  {
   "cell_type": "code",
   "execution_count": 118,
   "metadata": {},
   "outputs": [],
   "source": [
    "#read through lines, keep only the dateHour and url\n",
    "def getDateHourUrl(line):\n",
    "    columns = line.split(',')\n",
    "    dateHour = columns[1].split(':')[0]\n",
    "    url = columns[2]\n",
    "    return ( dateHour, [dateHour, url] )"
   ]
  },
  {
   "cell_type": "code",
   "execution_count": 119,
   "metadata": {},
   "outputs": [],
   "source": [
    "#get all the dateHour\n",
    "def getDateHour(line):\n",
    "    columns = line.split(',')\n",
    "    dateHour = columns[1].split(':')[0]\n",
    "    return ( dateHour )"
   ]
  },
  {
   "cell_type": "code",
   "execution_count": 126,
   "metadata": {},
   "outputs": [],
   "source": [
    "dateHourUrlCollection = logs.map(getDateHourUrl)"
   ]
  },
  {
   "cell_type": "code",
   "execution_count": 124,
   "metadata": {},
   "outputs": [
    {
     "data": {
      "text/plain": [
       "[('2019-09-12T00', ['2019-09-12T00', 'http://example.com/?url=169']),\n",
       " ('2019-09-12T00', ['2019-09-12T00', 'http://example.com/?url=183'])]"
      ]
     },
     "execution_count": 124,
     "metadata": {},
     "output_type": "execute_result"
    }
   ],
   "source": [
    "dateHourUrlCollection.take(2)"
   ]
  },
  {
   "cell_type": "code",
   "execution_count": 100,
   "metadata": {},
   "outputs": [],
   "source": [
    "dateHourCollection = logs.map(getDateHour)"
   ]
  },
  {
   "cell_type": "code",
   "execution_count": 101,
   "metadata": {},
   "outputs": [
    {
     "data": {
      "text/plain": [
       "13417"
      ]
     },
     "execution_count": 101,
     "metadata": {},
     "output_type": "execute_result"
    }
   ],
   "source": [
    "dateHourUrlCollection.distinct().count()"
   ]
  },
  {
   "cell_type": "code",
   "execution_count": 102,
   "metadata": {},
   "outputs": [
    {
     "data": {
      "text/plain": [
       "73"
      ]
     },
     "execution_count": 102,
     "metadata": {},
     "output_type": "execute_result"
    }
   ],
   "source": [
    "dateHourCollection.distinct().count()"
   ]
  },
  {
   "cell_type": "code",
   "execution_count": 105,
   "metadata": {},
   "outputs": [],
   "source": [
    "dateHourUrlCountList = []\n",
    "for dateHour in dateHourCollection.distinct().collect():\n",
    "    count = dateHourUrlCollection.filter(lambda x: x[0] == dateHour).distinct().count()\n",
    "    dateHourUrlCountList.append([dateHour, count])"
   ]
  },
  {
   "cell_type": "code",
   "execution_count": 107,
   "metadata": {},
   "outputs": [
    {
     "data": {
      "text/plain": [
       "[['2019-09-12T00', 183],\n",
       " ['2019-09-12T01', 188],\n",
       " ['2019-09-12T02', 186],\n",
       " ['2019-09-12T03', 191],\n",
       " ['2019-09-12T04', 184],\n",
       " ['2019-09-12T05', 182],\n",
       " ['2019-09-12T06', 189],\n",
       " ['2019-09-12T07', 185],\n",
       " ['2019-09-12T08', 188],\n",
       " ['2019-09-12T09', 190],\n",
       " ['2019-09-12T10', 188],\n",
       " ['2019-09-12T11', 188],\n",
       " ['2019-09-12T12', 186],\n",
       " ['2019-09-12T13', 185],\n",
       " ['2019-09-12T14', 186],\n",
       " ['2019-09-12T15', 185],\n",
       " ['2019-09-12T16', 190],\n",
       " ['2019-09-12T17', 189],\n",
       " ['2019-09-12T18', 189],\n",
       " ['2019-09-12T19', 191],\n",
       " ['2019-09-12T20', 189],\n",
       " ['2019-09-12T21', 183],\n",
       " ['2019-09-12T22', 186],\n",
       " ['2019-09-12T23', 184],\n",
       " ['2019-09-13T00', 189],\n",
       " ['2019-09-13T01', 183],\n",
       " ['2019-09-13T02', 186],\n",
       " ['2019-09-13T03', 189],\n",
       " ['2019-09-13T04', 190],\n",
       " ['2019-09-13T05', 181],\n",
       " ['2019-09-13T06', 184],\n",
       " ['2019-09-13T07', 189],\n",
       " ['2019-09-13T08', 177],\n",
       " ['2019-09-13T09', 190],\n",
       " ['2019-09-13T10', 187],\n",
       " ['2019-09-13T11', 189],\n",
       " ['2019-09-13T12', 190],\n",
       " ['2019-09-13T13', 187],\n",
       " ['2019-09-13T14', 186],\n",
       " ['2019-09-13T15', 186],\n",
       " ['2019-09-13T16', 187],\n",
       " ['2019-09-13T17', 185],\n",
       " ['2019-09-13T18', 186],\n",
       " ['2019-09-13T19', 186],\n",
       " ['2019-09-13T20', 184],\n",
       " ['2019-09-13T21', 187],\n",
       " ['2019-09-13T22', 190],\n",
       " ['2019-09-13T23', 187],\n",
       " ['2019-09-14T00', 186],\n",
       " ['2019-09-14T01', 181],\n",
       " ['2019-09-14T02', 185],\n",
       " ['2019-09-14T03', 189],\n",
       " ['2019-09-14T04', 187],\n",
       " ['2019-09-14T05', 187],\n",
       " ['2019-09-14T06', 184],\n",
       " ['2019-09-14T07', 187],\n",
       " ['2019-09-14T08', 189],\n",
       " ['2019-09-14T09', 184],\n",
       " ['2019-09-14T10', 183],\n",
       " ['2019-09-14T11', 186],\n",
       " ['2019-09-14T12', 187],\n",
       " ['2019-09-14T13', 188],\n",
       " ['2019-09-14T14', 181],\n",
       " ['2019-09-14T15', 188],\n",
       " ['2019-09-14T16', 186],\n",
       " ['2019-09-14T17', 183],\n",
       " ['2019-09-14T18', 183],\n",
       " ['2019-09-14T19', 188],\n",
       " ['2019-09-14T20', 182],\n",
       " ['2019-09-14T21', 186],\n",
       " ['2019-09-14T22', 187],\n",
       " ['2019-09-14T23', 186],\n",
       " ['2019-09-15T00', 4]]"
      ]
     },
     "execution_count": 107,
     "metadata": {},
     "output_type": "execute_result"
    }
   ],
   "source": [
    "sorted( dateHourUrlCountList )"
   ]
  },
  {
   "cell_type": "code",
   "execution_count": 139,
   "metadata": {},
   "outputs": [],
   "source": [
    "f = open('spark_queries/spark_q1.csv', 'w')\n",
    "for item in sorted( dateHourUrlCountList ):\n",
    "    f.write(   \"%s,%s\\n\" % (item[0], str(item[1]))   )"
   ]
  },
  {
   "cell_type": "code",
   "execution_count": null,
   "metadata": {},
   "outputs": [],
   "source": [
    "dateHourUrlCollection.map(lambda x: (x[0], x[1]))\\\n",
    "    .groupByKey()\\\n",
    "    .mapValues(lambda vals: len(set(vals)))\\\n",
    "    .sortByKey()\\\n",
    "    .collect()"
   ]
  },
  {
   "cell_type": "code",
   "execution_count": null,
   "metadata": {},
   "outputs": [],
   "source": []
  }
 ],
 "metadata": {
  "kernelspec": {
   "display_name": "Python 3",
   "language": "python",
   "name": "python3"
  },
  "language_info": {
   "codemirror_mode": {
    "name": "ipython",
    "version": 3
   },
   "file_extension": ".py",
   "mimetype": "text/x-python",
   "name": "python",
   "nbconvert_exporter": "python",
   "pygments_lexer": "ipython3",
   "version": "3.7.3"
  }
 },
 "nbformat": 4,
 "nbformat_minor": 2
}
