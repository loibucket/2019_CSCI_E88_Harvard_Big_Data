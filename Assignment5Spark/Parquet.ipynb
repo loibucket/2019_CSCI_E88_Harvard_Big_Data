{
 "cells": [
  {
   "cell_type": "code",
   "execution_count": 2,
   "metadata": {},
   "outputs": [],
   "source": [
    "import findspark\n",
    "findspark.init()\n",
    "\n",
    "import pyspark\n",
    "from pyspark import SparkContext"
   ]
  },
  {
   "cell_type": "code",
   "execution_count": 3,
   "metadata": {},
   "outputs": [],
   "source": [
    "from pyspark.sql import SparkSession"
   ]
  },
  {
   "cell_type": "code",
   "execution_count": 4,
   "metadata": {},
   "outputs": [],
   "source": [
    "spark1 = SparkSession.builder.appName('Read CSV Write Parquet').getOrCreate()"
   ]
  },
  {
   "cell_type": "code",
   "execution_count": 9,
   "metadata": {},
   "outputs": [],
   "source": [
    "df = spark1.read.format(\"csv\").load(\"input_files/*.csv\")"
   ]
  },
  {
   "cell_type": "code",
   "execution_count": 11,
   "metadata": {},
   "outputs": [
    {
     "name": "stdout",
     "output_type": "stream",
     "text": [
      "+--------------------+--------------------+--------------------+--------+---+-------+-------+---+------+\n",
      "|                 _c0|                 _c1|                 _c2|     _c3|_c4|    _c5|    _c6|_c7|   _c8|\n",
      "+--------------------+--------------------+--------------------+--------+---+-------+-------+---+------+\n",
      "|8e66dea62a914ba69...|2019-09-12T00:00:...|http://example.co...|user-028| ER| Chrome|    Mac|501|0.6975|\n",
      "|3897a5a7115d489e9...|2019-09-12T00:00:...|http://example.co...|user-032| SJ|Firefox|  Linux|307|0.3905|\n",
      "|baf865e583aa45f79...|2019-09-12T00:01:...|http://example.co...|user-031| MA|Firefox|  Linux|510|0.5118|\n",
      "|656bd941b94044a18...|2019-09-12T00:01:...|http://example.co...|user-057| GD|   Edge|  Linux|510|0.1552|\n",
      "|a4156ae1faf74acc9...|2019-09-12T00:02:...|http://example.co...|user-054| ZW|   Edge|Android|208|0.7311|\n",
      "+--------------------+--------------------+--------------------+--------+---+-------+-------+---+------+\n",
      "only showing top 5 rows\n",
      "\n"
     ]
    }
   ],
   "source": [
    "df.show(5)"
   ]
  },
  {
   "cell_type": "code",
   "execution_count": 12,
   "metadata": {},
   "outputs": [],
   "source": [
    "df.write.parquet(\"hw5_problem2.parquet\")"
   ]
  },
  {
   "cell_type": "code",
   "execution_count": null,
   "metadata": {},
   "outputs": [],
   "source": []
  }
 ],
 "metadata": {
  "kernelspec": {
   "display_name": "Python 3",
   "language": "python",
   "name": "python3"
  },
  "language_info": {
   "codemirror_mode": {
    "name": "ipython",
    "version": 3
   },
   "file_extension": ".py",
   "mimetype": "text/x-python",
   "name": "python",
   "nbconvert_exporter": "python",
   "pygments_lexer": "ipython3",
   "version": "3.7.3"
  }
 },
 "nbformat": 4,
 "nbformat_minor": 2
}
