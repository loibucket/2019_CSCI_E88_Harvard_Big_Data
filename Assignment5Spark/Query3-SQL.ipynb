{
 "cells": [
  {
   "cell_type": "code",
   "execution_count": 1,
   "metadata": {},
   "outputs": [],
   "source": [
    "import findspark\n",
    "findspark.init()\n",
    "\n",
    "import pyspark\n",
    "from pyspark import SparkContext"
   ]
  },
  {
   "cell_type": "code",
   "execution_count": 2,
   "metadata": {},
   "outputs": [],
   "source": [
    "from pyspark.sql import SparkSession"
   ]
  },
  {
   "cell_type": "code",
   "execution_count": 42,
   "metadata": {},
   "outputs": [
    {
     "name": "stdout",
     "output_type": "stream",
     "text": [
      "+--------------------+--------------------+--------------------+--------+---+-------+-------+---+------+\n",
      "|                 _c0|                 _c1|                 _c2|     _c3|_c4|    _c5|    _c6|_c7|   _c8|\n",
      "+--------------------+--------------------+--------------------+--------+---+-------+-------+---+------+\n",
      "|eefc2eb34a354ab7a...|2019-09-12T00:00:...|http://example.co...|user-041| CR|     IE|Android|201|0.2856|\n",
      "|9ba55c683ddd4a05a...|2019-09-12T00:00:...|http://example.co...|user-043| NE| Safari|windows|403|0.2843|\n",
      "|a45df30287454e598...|2019-09-12T00:01:...|http://example.co...|user-005| VI|   Edge|Android|444|0.6983|\n",
      "|941c2d880242431c9...|2019-09-12T00:01:...|http://example.co...|user-092| IS|Firefox|windows|226|0.2636|\n",
      "|97723d7e1669450eb...|2019-09-12T00:02:...|http://example.co...|user-024| GM|Firefox|windows|303|0.0459|\n",
      "+--------------------+--------------------+--------------------+--------+---+-------+-------+---+------+\n",
      "only showing top 5 rows\n",
      "\n"
     ]
    }
   ],
   "source": [
    "spark = SparkSession.builder.appName('Query3-SQL').getOrCreate()\n",
    "df = spark.read.load(\"hw5_problem2.parquet\")\n",
    "df.show(5)"
   ]
  },
  {
   "cell_type": "code",
   "execution_count": 46,
   "metadata": {},
   "outputs": [],
   "source": [
    "# Register the DataFrame as a SQL temporary view\n",
    "df.createOrReplaceTempView(\"alldata\")"
   ]
  },
  {
   "cell_type": "code",
   "execution_count": 101,
   "metadata": {},
   "outputs": [
    {
     "name": "stdout",
     "output_type": "stream",
     "text": [
      "+--------------------+--------------------+\n",
      "|                 _c1|                 _c2|\n",
      "+--------------------+--------------------+\n",
      "|2019-09-12T14:00:...|http://example.co...|\n",
      "|2019-09-12T14:00:...|http://example.co...|\n",
      "|2019-09-12T14:01:...|http://example.co...|\n",
      "|2019-09-12T14:01:...|http://example.co...|\n",
      "|2019-09-12T14:01:...|http://example.co...|\n",
      "|2019-09-12T14:02:24Z|http://example.co...|\n",
      "|2019-09-12T14:02:...|http://example.co...|\n",
      "|2019-09-12T14:03:...|http://example.co...|\n",
      "|2019-09-12T14:03:...|http://example.co...|\n",
      "|2019-09-12T14:04:...|http://example.co...|\n",
      "|2019-09-12T14:04:...|http://example.co...|\n",
      "|2019-09-12T14:04:...|http://example.co...|\n",
      "|2019-09-12T14:05:...|http://example.co...|\n",
      "|2019-09-12T14:05:...|http://example.co...|\n",
      "|2019-09-12T14:06:...|http://example.co...|\n",
      "|2019-09-12T14:06:...|http://example.co...|\n",
      "|2019-09-12T14:07:...|http://example.co...|\n",
      "|2019-09-12T14:07:...|http://example.co...|\n",
      "|2019-09-12T14:08:...|http://example.co...|\n",
      "|2019-09-12T14:08:...|http://example.co...|\n",
      "+--------------------+--------------------+\n",
      "only showing top 20 rows\n",
      "\n"
     ]
    }
   ],
   "source": [
    "hourUrlDF = spark.sql(\"\"\"\n",
    "SELECT _c1, _c2 FROM alldata\n",
    "WHERE _c1 LIKE '%2019-09-12T14%'\n",
    "\"\"\")\n",
    "hourUrlDF.show()"
   ]
  },
  {
   "cell_type": "code",
   "execution_count": 99,
   "metadata": {},
   "outputs": [],
   "source": [
    "# Register the DataFrame as a SQL temporary view\n",
    "hourUrlDF.createOrReplaceTempView(\"smalldata\")"
   ]
  },
  {
   "cell_type": "code",
   "execution_count": 102,
   "metadata": {},
   "outputs": [
    {
     "name": "stdout",
     "output_type": "stream",
     "text": [
      "+--------------------+----------+\n",
      "|                 _c2|count(_c2)|\n",
      "+--------------------+----------+\n",
      "|http://example.co...|         9|\n",
      "|http://example.co...|         4|\n",
      "|http://example.co...|         1|\n",
      "|http://example.co...|         6|\n",
      "|http://example.co...|         3|\n",
      "|http://example.co...|         3|\n",
      "|http://example.co...|         7|\n",
      "|http://example.co...|         2|\n",
      "|http://example.co...|         1|\n",
      "|http://example.co...|         2|\n",
      "|http://example.co...|         2|\n",
      "|http://example.co...|         1|\n",
      "|http://example.co...|         2|\n",
      "|http://example.co...|         2|\n",
      "|http://example.co...|         2|\n",
      "|http://example.co...|         2|\n",
      "|http://example.co...|         3|\n",
      "|http://example.co...|         3|\n",
      "|http://example.co...|         5|\n",
      "|http://example.co...|         5|\n",
      "+--------------------+----------+\n",
      "only showing top 20 rows\n",
      "\n"
     ]
    }
   ],
   "source": [
    "urlEventCountDF = spark.sql(\"\"\"\n",
    "SELECT _c2, COUNT(_c2) \n",
    "FROM smalldata\n",
    "GROUP BY _c2\n",
    "\"\"\")\n",
    "urlEventCountDF.show()"
   ]
  },
  {
   "cell_type": "code",
   "execution_count": null,
   "metadata": {},
   "outputs": [],
   "source": []
  }
 ],
 "metadata": {
  "kernelspec": {
   "display_name": "Python 3",
   "language": "python",
   "name": "python3"
  },
  "language_info": {
   "codemirror_mode": {
    "name": "ipython",
    "version": 3
   },
   "file_extension": ".py",
   "mimetype": "text/x-python",
   "name": "python",
   "nbconvert_exporter": "python",
   "pygments_lexer": "ipython3",
   "version": "3.7.3"
  }
 },
 "nbformat": 4,
 "nbformat_minor": 2
}
