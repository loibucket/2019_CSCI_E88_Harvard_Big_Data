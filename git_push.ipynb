{
 "cells": [
  {
   "cell_type": "code",
   "execution_count": 4,
   "metadata": {},
   "outputs": [
    {
     "name": "stdout",
     "output_type": "stream",
     "text": [
      "From https://github.com/loibucket/CSCI_E88_Harvard_Big_Data\r\n",
      " * branch            master     -> FETCH_HEAD\r\n"
     ]
    }
   ],
   "source": [
    "!git fetch origin master"
   ]
  },
  {
   "cell_type": "code",
   "execution_count": 8,
   "metadata": {},
   "outputs": [
    {
     "name": "stdout",
     "output_type": "stream",
     "text": [
      "On branch master\r\n",
      "Your branch is up to date with 'origin/master'.\r\n",
      "\r\n",
      "Untracked files:\r\n",
      "  (use \"git add <file>...\" to include in what will be committed)\r\n",
      "\t\u001b[31m.gitattributes\u001b[m\r\n",
      "\t\u001b[31m.gitignore\u001b[m\r\n",
      "\t\u001b[31mAssignment10Cassandra/\u001b[m\r\n",
      "\t\u001b[31mAssignment11ElasticSearch/\u001b[m\r\n",
      "\t\u001b[31mAssignment1Docker/\u001b[m\r\n",
      "\t\u001b[31mAssignment2AWS/\u001b[m\r\n",
      "\t\u001b[31mAssignment3Redis/\u001b[m\r\n",
      "\t\u001b[31mAssignment4Hadoop/\u001b[m\r\n",
      "\t\u001b[31mAssignment5Spark/\u001b[m\r\n",
      "\t\u001b[31mAssignment6Hbase/\u001b[m\r\n",
      "\t\u001b[31mAssignment7Flume/\u001b[m\r\n",
      "\t\u001b[31mAssignment8Kafka/\u001b[m\r\n",
      "\t\u001b[31mAssignment9SparkStreaming/\u001b[m\r\n",
      "\t\u001b[31mCheng_Loi_Final_Project.zip\u001b[m\r\n",
      "\t\u001b[31mFinal_Project/\u001b[m\r\n",
      "\t\u001b[31mFinal_Project_misc/\u001b[m\r\n",
      "\t\u001b[31mWeek 16_ Principles of Big Data Processing.mhtml\u001b[m\r\n",
      "\t\u001b[31mWeek13_14_15/\u001b[m\r\n",
      "\t\u001b[31mcscie88_Apache_Beam_Flink_Intro.zip\u001b[m\r\n",
      "\t\u001b[31mfiles_check.ipynb\u001b[m\r\n",
      "\t\u001b[31mgit_push.ipynb\u001b[m\r\n",
      "\r\n",
      "nothing added to commit but untracked files present (use \"git add\" to track)\r\n"
     ]
    }
   ],
   "source": [
    "!git status"
   ]
  },
  {
   "cell_type": "code",
   "execution_count": 9,
   "metadata": {},
   "outputs": [
    {
     "name": "stdout",
     "output_type": "stream",
     "text": [
      "warning: CRLF will be replaced by LF in Assignment10Cassandra/Assignment 10.html.\n",
      "The file will have its original line endings in your working directory\n",
      "warning: CRLF will be replaced by LF in Assignment1Docker/Assignment1.htm.\n",
      "The file will have its original line endings in your working directory\n",
      "warning: CRLF will be replaced by LF in Assignment2AWS/Assignment2.htm.\n",
      "The file will have its original line endings in your working directory\n",
      "warning: CRLF will be replaced by LF in Assignment3Redis/Assignment3.htm.\n",
      "The file will have its original line endings in your working directory\n",
      "warning: CRLF will be replaced by LF in Assignment4Hadoop/Assignment4.htm.\n",
      "The file will have its original line endings in your working directory\n",
      "warning: CRLF will be replaced by LF in Assignment4Hadoop/PythonDemo/demo.txt.\n",
      "The file will have its original line endings in your working directory\n",
      "warning: CRLF will be replaced by LF in Assignment5Spark/Assignment5.htm.\n",
      "The file will have its original line endings in your working directory\n",
      "warning: adding embedded git repository: Assignment5Spark/cscie88_Spark_lab5/Spark-Python-Jupyter\n",
      "\u001b[33mhint: You've added another git repository inside your current repository.\u001b[m\n",
      "\u001b[33mhint: Clones of the outer repository will not contain the contents of\u001b[m\n",
      "\u001b[33mhint: the embedded repository and will not know how to obtain it.\u001b[m\n",
      "\u001b[33mhint: If you meant to add a submodule, use:\u001b[m\n",
      "\u001b[33mhint: \u001b[m\n",
      "\u001b[33mhint: \tgit submodule add <url> Assignment5Spark/cscie88_Spark_lab5/Spark-Python-Jupyter\u001b[m\n",
      "\u001b[33mhint: \u001b[m\n",
      "\u001b[33mhint: If you added this path by mistake, you can remove it from the\u001b[m\n",
      "\u001b[33mhint: index with:\u001b[m\n",
      "\u001b[33mhint: \u001b[m\n",
      "\u001b[33mhint: \tgit rm --cached Assignment5Spark/cscie88_Spark_lab5/Spark-Python-Jupyter\u001b[m\n",
      "\u001b[33mhint: \u001b[m\n",
      "\u001b[33mhint: See \"git help submodule\" for more information.\u001b[m\n",
      "warning: CRLF will be replaced by LF in Assignment6Hbase/Assignment6.htm.\n",
      "The file will have its original line endings in your working directory\n",
      "warning: CRLF will be replaced by LF in Assignment8Kafka/Assignment 8.html.\n",
      "The file will have its original line endings in your working directory\n",
      "warning: CRLF will be replaced by LF in Assignment8Kafka/KafkaDemo/gradlew.bat.\n",
      "The file will have its original line endings in your working directory\n",
      "warning: CRLF will be replaced by LF in Week 16_ Principles of Big Data Processing.mhtml.\n",
      "The file will have its original line endings in your working directory\n"
     ]
    }
   ],
   "source": [
    "!git add ."
   ]
  },
  {
   "cell_type": "code",
   "execution_count": 3,
   "metadata": {},
   "outputs": [
    {
     "name": "stdout",
     "output_type": "stream",
     "text": [
      "[master e20a98b] git push notebook\r\n",
      " 2 files changed, 165 insertions(+), 24 deletions(-)\r\n",
      " create mode 100644 git_push.ipynb\r\n"
     ]
    }
   ],
   "source": [
    "!git commit -m \"git push notebook\""
   ]
  },
  {
   "cell_type": "code",
   "execution_count": 4,
   "metadata": {},
   "outputs": [
    {
     "name": "stdout",
     "output_type": "stream",
     "text": [
      "To https://github.com/loibucket/autobus.git\r\n",
      " \u001b[31m! [rejected]       \u001b[m master -> master (non-fast-forward)\r\n",
      "\u001b[31merror: failed to push some refs to 'https://github.com/loibucket/autobus.git'\r\n",
      "\u001b[m\u001b[33mhint: Updates were rejected because the tip of your current branch is behind\u001b[m\r\n",
      "\u001b[33mhint: its remote counterpart. Integrate the remote changes (e.g.\u001b[m\r\n",
      "\u001b[33mhint: 'git pull ...') before pushing again.\u001b[m\r\n",
      "\u001b[33mhint: See the 'Note about fast-forwards' in 'git push --help' for details.\u001b[m\r\n"
     ]
    }
   ],
   "source": [
    "!git push origin master"
   ]
  }
 ],
 "metadata": {
  "kernelspec": {
   "display_name": "Python 3",
   "language": "python",
   "name": "python3"
  },
  "language_info": {
   "codemirror_mode": {
    "name": "ipython",
    "version": 3
   },
   "file_extension": ".py",
   "mimetype": "text/x-python",
   "name": "python",
   "nbconvert_exporter": "python",
   "pygments_lexer": "ipython3",
   "version": "3.7.6"
  }
 },
 "nbformat": 4,
 "nbformat_minor": 4
}
