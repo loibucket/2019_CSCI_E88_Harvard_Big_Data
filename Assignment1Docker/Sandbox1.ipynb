{
 "cells": [
  {
   "cell_type": "code",
   "execution_count": 25,
   "metadata": {},
   "outputs": [],
   "source": [
    "import random\n",
    "import threading\n",
    "\n",
    "numFiles = 30\n",
    "numLines = 5\n",
    "\n",
    "def makeFile(fileName, numLines):\n",
    "    '''\n",
    "    generate a file with the specified number of lines:\n",
    "    each line should have 3 random numbers in the range [0-10]; the lines would look like:\n",
    "    1 7 3\n",
    "    2 1 3\n",
    "    '''\n",
    "    # open a (new) file to write\n",
    "    outF = open(fileName, \"w\")\n",
    "\n",
    "    for line in range (numLines):\n",
    "        # write line to output file\n",
    "        outF.write( str(random.randint(1,10)) + \" \" + str(random.randint(1,10)) + \" \" + str(random.randint(1,10))  )\n",
    "        outF.write(\"\\n\")\n",
    "\n",
    "    outF.close()\n",
    "\n",
    "def makeManyFiles(numFiles, numLines, filePrefix):\n",
    "    '''\n",
    "    generate specified number of files with the specified number of lines:\n",
    "    each line should have 3 random numbers in the range [0-10]; the lines would look like:\n",
    "    1 7 3\n",
    "    2 1 3\n",
    "    \n",
    "    File names are in the format: <yourFirstName>_<yourLastName>_threadNumber.txt\n",
    "    For example, if 'numFiles' = 3, the following files should be generated:\n",
    "    marina_popova_0.txt\n",
    "    marina_popova_1.txt\n",
    "    marina_popova_2.txt\n",
    "    '''   \n",
    "    for fileCount in range (numFiles):\n",
    "        \n",
    "        fileName = filePrefix + str(fileCount) + \".txt\"\n",
    "        #run thread\n",
    "        threading.Thread(target=makeFile, args=(fileName,numLines)).start()\n",
    "        \n",
    "if __name__ == \"__main__\": \n",
    "    makeManyFiles(numFiles, numLines, \"loi_cheng_\")"
   ]
  },
  {
   "cell_type": "code",
   "execution_count": 23,
   "metadata": {},
   "outputs": [
    {
     "name": "stdout",
     "output_type": "stream",
     "text": [
      "Help on function makeManyFiles in module __main__:\n",
      "\n",
      "makeManyFiles(numFiles, numLines, filePrefix)\n",
      "    generate specified number of files with the specified number of lines:\n",
      "    each line should have 3 random numbers in the range [0-10]; the lines would look like:\n",
      "    1 7 3\n",
      "    2 1 3\n",
      "\n"
     ]
    }
   ],
   "source": [
    "help(makeManyFiles)"
   ]
  },
  {
   "cell_type": "code",
   "execution_count": null,
   "metadata": {},
   "outputs": [],
   "source": []
  }
 ],
 "metadata": {
  "kernelspec": {
   "display_name": "Python 3",
   "language": "python",
   "name": "python3"
  },
  "language_info": {
   "codemirror_mode": {
    "name": "ipython",
    "version": 3
   },
   "file_extension": ".py",
   "mimetype": "text/x-python",
   "name": "python",
   "nbconvert_exporter": "python",
   "pygments_lexer": "ipython3",
   "version": "3.7.3"
  }
 },
 "nbformat": 4,
 "nbformat_minor": 2
}
