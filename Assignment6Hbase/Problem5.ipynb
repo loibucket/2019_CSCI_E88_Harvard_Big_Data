{
 "cells": [
  {
   "cell_type": "code",
   "execution_count": 54,
   "metadata": {},
   "outputs": [],
   "source": [
    "import findspark\n",
    "findspark.init()\n",
    "\n",
    "import pyspark\n",
    "from pyspark.sql import SparkSession\n",
    "\n",
    "from pyspark.sql.types import *"
   ]
  },
  {
   "cell_type": "code",
   "execution_count": 3,
   "metadata": {},
   "outputs": [],
   "source": [
    "import happybase"
   ]
  },
  {
   "cell_type": "code",
   "execution_count": 4,
   "metadata": {},
   "outputs": [
    {
     "data": {
      "text/plain": [
       "[b'mytable', b'query2']"
      ]
     },
     "execution_count": 4,
     "metadata": {},
     "output_type": "execute_result"
    }
   ],
   "source": [
    "connection = happybase.Connection(host='localhost', port=9090)\n",
    "connection.tables()"
   ]
  },
  {
   "cell_type": "code",
   "execution_count": 5,
   "metadata": {},
   "outputs": [
    {
     "data": {
      "text/plain": [
       "True"
      ]
     },
     "execution_count": 5,
     "metadata": {},
     "output_type": "execute_result"
    }
   ],
   "source": [
    "b'query2' in connection.tables()"
   ]
  },
  {
   "cell_type": "code",
   "execution_count": 6,
   "metadata": {},
   "outputs": [],
   "source": [
    "#2019-09-12:02:http://example.com/?url=003, 1\n",
    "#2019-09-12:02:http://example.com/?url=004, 3\n",
    "#2019-09-12:02:http://example.com/?url=005, 4\n",
    "#2019-09-12:02:http://example.com/?url=006, 10"
   ]
  },
  {
   "cell_type": "code",
   "execution_count": 46,
   "metadata": {},
   "outputs": [
    {
     "data": {
      "text/plain": [
       "10"
      ]
     },
     "execution_count": 46,
     "metadata": {},
     "output_type": "execute_result"
    }
   ],
   "source": [
    "connection = happybase.Connection(host='localhost', port=9090)\n",
    "table = happybase.Table(b'query2',connection)\n",
    "table.row('2019-09-12:02:http://example.com/?url=003')\n",
    "table.row('2019-09-12:02:http://example.com/?url=004')\n",
    "table.row('2019-09-12:02:http://example.com/?url=005')\n",
    "int(table.row('2019-09-12:02:http://example.com/?url=006')[b'count:count'])"
   ]
  },
  {
   "cell_type": "code",
   "execution_count": 36,
   "metadata": {},
   "outputs": [],
   "source": [
    "spark = SparkSession.builder.appName(\"lab6\").getOrCreate() # spark session\n",
    "\n",
    "schema = StructType([StructField(\"date_hour_url\", StringType(), True),StructField(\"count_unique_users\", IntegerType(), True)])\n",
    "\n",
    "df = spark.createDataFrame(sc.emptyRDD(), schema)"
   ]
  },
  {
   "cell_type": "code",
   "execution_count": 37,
   "metadata": {},
   "outputs": [
    {
     "name": "stdout",
     "output_type": "stream",
     "text": [
      "+-------------+------------------+\n",
      "|date_hour_url|count_unique_users|\n",
      "+-------------+------------------+\n",
      "+-------------+------------------+\n",
      "\n"
     ]
    }
   ],
   "source": [
    "df.show()"
   ]
  },
  {
   "cell_type": "code",
   "execution_count": 38,
   "metadata": {},
   "outputs": [],
   "source": [
    "#newRow = spark.createDataFrame([('Alk','Dhl')])\n",
    "#newRow.show()"
   ]
  },
  {
   "cell_type": "code",
   "execution_count": 39,
   "metadata": {},
   "outputs": [],
   "source": [
    "#df = df.union(newRow)\n",
    "#df.show()"
   ]
  },
  {
   "cell_type": "code",
   "execution_count": 41,
   "metadata": {},
   "outputs": [],
   "source": [
    "listOfKeys = ['2019-09-12:02:http://example.com/?url=003',\\\n",
    "              '2019-09-12:02:http://example.com/?url=004',\\\n",
    "              '2019-09-12:02:http://example.com/?url=005',\\\n",
    "              '2019-09-12:02:http://example.com/?url=006']"
   ]
  },
  {
   "cell_type": "code",
   "execution_count": 48,
   "metadata": {},
   "outputs": [
    {
     "name": "stdout",
     "output_type": "stream",
     "text": [
      "+--------------------+------------------+\n",
      "|       date_hour_url|count_unique_users|\n",
      "+--------------------+------------------+\n",
      "|2019-09-12:02:htt...|                 1|\n",
      "|2019-09-12:02:htt...|                 3|\n",
      "|2019-09-12:02:htt...|                 4|\n",
      "|2019-09-12:02:htt...|                10|\n",
      "+--------------------+------------------+\n",
      "\n"
     ]
    }
   ],
   "source": [
    "for key in listOfKeys:\n",
    "    connection = happybase.Connection(host='localhost', port=9090)\n",
    "    table = happybase.Table(b'query2',connection)\n",
    "    newRow = spark.createDataFrame([(   key   ,   int(table.row(key)[b'count:count']))])\n",
    "    df = df.union(newRow)\n",
    "df.show()"
   ]
  },
  {
   "cell_type": "code",
   "execution_count": 52,
   "metadata": {},
   "outputs": [
    {
     "name": "stdout",
     "output_type": "stream",
     "text": [
      "== explain query execution plan ==\n",
      "== Physical Plan ==\n",
      "Union\n",
      ":- *(1) Project [date_hour_url#83, cast(count_unique_users#84 as bigint) AS count_unique_users#98L]\n",
      ":  +- Scan ExistingRDD[date_hour_url#83,count_unique_users#84]\n",
      ":- Scan ExistingRDD[_1#94,_2#95L]\n",
      ":- Scan ExistingRDD[_1#101,_2#102L]\n",
      ":- Scan ExistingRDD[_1#107,_2#108L]\n",
      "+- Scan ExistingRDD[_1#113,_2#114L]\n"
     ]
    }
   ],
   "source": [
    "# Register the DataFrame as a SQL temporary view\n",
    "df.createOrReplaceTempView(\"allData\")\n",
    "# Use SQL commands to get url events for specified hour\n",
    "sqlDF = spark.sql(\"\"\"\n",
    "    SELECT * FROM allData\n",
    "    \"\"\")\n",
    "\n",
    "print(\"== explain query execution plan ==\")\n",
    "sqlDF.explain()    #explain"
   ]
  },
  {
   "cell_type": "code",
   "execution_count": 53,
   "metadata": {},
   "outputs": [
    {
     "name": "stdout",
     "output_type": "stream",
     "text": [
      "+--------------------+------------------+\n",
      "|       date_hour_url|count_unique_users|\n",
      "+--------------------+------------------+\n",
      "|2019-09-12:02:htt...|                 1|\n",
      "|2019-09-12:02:htt...|                 3|\n",
      "|2019-09-12:02:htt...|                 4|\n",
      "|2019-09-12:02:htt...|                10|\n",
      "+--------------------+------------------+\n",
      "\n"
     ]
    }
   ],
   "source": [
    "sqlDF.show()"
   ]
  },
  {
   "cell_type": "code",
   "execution_count": null,
   "metadata": {},
   "outputs": [],
   "source": []
  }
 ],
 "metadata": {
  "kernelspec": {
   "display_name": "Python 3",
   "language": "python",
   "name": "python3"
  },
  "language_info": {
   "codemirror_mode": {
    "name": "ipython",
    "version": 3
   },
   "file_extension": ".py",
   "mimetype": "text/x-python",
   "name": "python",
   "nbconvert_exporter": "python",
   "pygments_lexer": "ipython3",
   "version": "3.7.3"
  }
 },
 "nbformat": 4,
 "nbformat_minor": 2
}
